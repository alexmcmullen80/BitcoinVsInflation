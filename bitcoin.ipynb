{
 "cells": [
  {
   "cell_type": "markdown",
   "id": "3414b06d",
   "metadata": {},
   "source": [
    "### Import Libraries"
   ]
  },
  {
   "cell_type": "code",
   "execution_count": 23,
   "id": "de15a9ee",
   "metadata": {},
   "outputs": [],
   "source": [
    "import yfinance as yf\n",
    "from pypfopt import EfficientFrontier\n",
    "from pypfopt import risk_models\n",
    "from pypfopt import expected_returns\n",
    "import pandas as pd\n",
    "import numpy as np\n",
    "import matplotlib.pyplot as plt\n",
    "from pypfopt import plotting\n",
    "import cvxpy \n",
    "import pypfopt.plotting as plotting\n",
    "from datetime import datetime, timedelta\n",
    "import warnings\n",
    "# warnings.filterwarnings(\"ignore\")"
   ]
  },
  {
   "cell_type": "code",
   "execution_count": 24,
   "id": "81bc4aa6",
   "metadata": {},
   "outputs": [
    {
     "name": "stderr",
     "output_type": "stream",
     "text": [
      "[*********************100%***********************]  1 of 1 completed\n",
      "[*********************100%***********************]  1 of 1 completed\n",
      "[*********************100%***********************]  1 of 1 completed"
     ]
    },
    {
     "name": "stdout",
     "output_type": "stream",
     "text": [
      "                   GLD        ^GSPC        BTC-USD\n",
      "Date                                              \n",
      "2020-05-20  164.649994  2971.610107    9522.981445\n",
      "2020-05-21  162.250000  2948.510010    9081.761719\n",
      "2020-05-22  163.210007  2955.449951    9182.577148\n",
      "2020-05-26  160.889999  2991.770020    8835.052734\n",
      "2020-05-27  161.179993  3036.129883    9181.017578\n",
      "...                ...          ...            ...\n",
      "2025-05-13  299.459991  5886.549805  104169.812500\n",
      "2025-05-14  293.160004  5892.580078  103539.414062\n",
      "2025-05-15  297.839996  5916.930176  103744.640625\n",
      "2025-05-16  294.239990  5958.379883  103489.289062\n",
      "2025-05-19  298.029999  5963.600098  105606.179688\n",
      "\n",
      "[1256 rows x 3 columns]\n"
     ]
    },
    {
     "name": "stderr",
     "output_type": "stream",
     "text": [
      "\n"
     ]
    }
   ],
   "source": [
    "#USCAD currency, gold, S&P 500, long term tradable treasury bond, bitcoin\n",
    "# tickers = ['USDCAD=X', 'GLD', '^GSPC', 'TLT', 'BTC-USD']\n",
    "tickers = ['GLD', '^GSPC', 'BTC-USD']\n",
    "end_date = datetime.today() - timedelta(days=1)\n",
    "\n",
    "start_date = end_date - timedelta(days=5*365)\n",
    "adj_close_df = pd.DataFrame()\n",
    "\n",
    "for ticker in tickers:\n",
    "    data = yf.download(ticker, start=start_date, end=end_date, auto_adjust=False)\n",
    "    adj_close_df[ticker] = data['Adj Close']\n",
    "\n",
    "print(adj_close_df)"
   ]
  },
  {
   "cell_type": "markdown",
   "id": "bf0fd756",
   "metadata": {},
   "source": [
    "### Calculate Log Returns"
   ]
  },
  {
   "cell_type": "code",
   "execution_count": 25,
   "id": "677ba5c4",
   "metadata": {},
   "outputs": [
    {
     "data": {
      "text/html": [
       "<div>\n",
       "<style scoped>\n",
       "    .dataframe tbody tr th:only-of-type {\n",
       "        vertical-align: middle;\n",
       "    }\n",
       "\n",
       "    .dataframe tbody tr th {\n",
       "        vertical-align: top;\n",
       "    }\n",
       "\n",
       "    .dataframe thead th {\n",
       "        text-align: right;\n",
       "    }\n",
       "</style>\n",
       "<table border=\"1\" class=\"dataframe\">\n",
       "  <thead>\n",
       "    <tr style=\"text-align: right;\">\n",
       "      <th></th>\n",
       "      <th>GLD</th>\n",
       "      <th>^GSPC</th>\n",
       "      <th>BTC-USD</th>\n",
       "    </tr>\n",
       "    <tr>\n",
       "      <th>Date</th>\n",
       "      <th></th>\n",
       "      <th></th>\n",
       "      <th></th>\n",
       "    </tr>\n",
       "  </thead>\n",
       "  <tbody>\n",
       "    <tr>\n",
       "      <th>2020-05-21</th>\n",
       "      <td>-0.014684</td>\n",
       "      <td>-0.007804</td>\n",
       "      <td>-0.047440</td>\n",
       "    </tr>\n",
       "    <tr>\n",
       "      <th>2020-05-22</th>\n",
       "      <td>0.005899</td>\n",
       "      <td>0.002351</td>\n",
       "      <td>0.011040</td>\n",
       "    </tr>\n",
       "    <tr>\n",
       "      <th>2020-05-26</th>\n",
       "      <td>-0.014317</td>\n",
       "      <td>0.012214</td>\n",
       "      <td>-0.038581</td>\n",
       "    </tr>\n",
       "    <tr>\n",
       "      <th>2020-05-27</th>\n",
       "      <td>0.001801</td>\n",
       "      <td>0.014718</td>\n",
       "      <td>0.038411</td>\n",
       "    </tr>\n",
       "    <tr>\n",
       "      <th>2020-05-28</th>\n",
       "      <td>0.003345</td>\n",
       "      <td>-0.002110</td>\n",
       "      <td>0.036861</td>\n",
       "    </tr>\n",
       "    <tr>\n",
       "      <th>...</th>\n",
       "      <td>...</td>\n",
       "      <td>...</td>\n",
       "      <td>...</td>\n",
       "    </tr>\n",
       "    <tr>\n",
       "      <th>2025-05-13</th>\n",
       "      <td>0.004250</td>\n",
       "      <td>0.007222</td>\n",
       "      <td>0.013111</td>\n",
       "    </tr>\n",
       "    <tr>\n",
       "      <th>2025-05-14</th>\n",
       "      <td>-0.021262</td>\n",
       "      <td>0.001024</td>\n",
       "      <td>-0.006070</td>\n",
       "    </tr>\n",
       "    <tr>\n",
       "      <th>2025-05-15</th>\n",
       "      <td>0.015838</td>\n",
       "      <td>0.004124</td>\n",
       "      <td>0.001980</td>\n",
       "    </tr>\n",
       "    <tr>\n",
       "      <th>2025-05-16</th>\n",
       "      <td>-0.012161</td>\n",
       "      <td>0.006981</td>\n",
       "      <td>-0.002464</td>\n",
       "    </tr>\n",
       "    <tr>\n",
       "      <th>2025-05-19</th>\n",
       "      <td>0.012798</td>\n",
       "      <td>0.000876</td>\n",
       "      <td>0.020249</td>\n",
       "    </tr>\n",
       "  </tbody>\n",
       "</table>\n",
       "<p>1255 rows × 3 columns</p>\n",
       "</div>"
      ],
      "text/plain": [
       "                 GLD     ^GSPC   BTC-USD\n",
       "Date                                    \n",
       "2020-05-21 -0.014684 -0.007804 -0.047440\n",
       "2020-05-22  0.005899  0.002351  0.011040\n",
       "2020-05-26 -0.014317  0.012214 -0.038581\n",
       "2020-05-27  0.001801  0.014718  0.038411\n",
       "2020-05-28  0.003345 -0.002110  0.036861\n",
       "...              ...       ...       ...\n",
       "2025-05-13  0.004250  0.007222  0.013111\n",
       "2025-05-14 -0.021262  0.001024 -0.006070\n",
       "2025-05-15  0.015838  0.004124  0.001980\n",
       "2025-05-16 -0.012161  0.006981 -0.002464\n",
       "2025-05-19  0.012798  0.000876  0.020249\n",
       "\n",
       "[1255 rows x 3 columns]"
      ]
     },
     "execution_count": 25,
     "metadata": {},
     "output_type": "execute_result"
    }
   ],
   "source": [
    "#log of row divided by previous row\n",
    "log_returns = np.log(adj_close_df / adj_close_df.shift(1))\n",
    "log_returns = log_returns.dropna()\n",
    "log_returns"
   ]
  },
  {
   "cell_type": "markdown",
   "id": "3589d744",
   "metadata": {},
   "source": [
    "### Forecast Expected Returns"
   ]
  },
  {
   "cell_type": "code",
   "execution_count": 26,
   "id": "7deaf259",
   "metadata": {},
   "outputs": [
    {
     "name": "stdout",
     "output_type": "stream",
     "text": [
      "GLD        0.126536\n",
      "^GSPC      0.150123\n",
      "BTC-USD    0.621123\n",
      "dtype: float64\n"
     ]
    }
   ],
   "source": [
    "mu2 = expected_returns.mean_historical_return(adj_close_df)\n",
    "print(mu2)"
   ]
  },
  {
   "cell_type": "markdown",
   "id": "aa4f6836",
   "metadata": {},
   "source": [
    "### Covariance Matrix"
   ]
  },
  {
   "cell_type": "code",
   "execution_count": 27,
   "id": "325163b7",
   "metadata": {},
   "outputs": [
    {
     "name": "stdout",
     "output_type": "stream",
     "text": [
      "              GLD     ^GSPC   BTC-USD\n",
      "GLD      0.023456  0.003945  0.009755\n",
      "^GSPC    0.003945  0.031599  0.037454\n",
      "BTC-USD  0.009755  0.037454  0.370019\n"
     ]
    }
   ],
   "source": [
    "cov_matrix = risk_models.sample_cov(adj_close_df)\n",
    "print(cov_matrix)"
   ]
  },
  {
   "cell_type": "markdown",
   "id": "18c713e8",
   "metadata": {},
   "source": [
    "### Efficient Frontier"
   ]
  },
  {
   "cell_type": "code",
   "execution_count": 28,
   "id": "2878f755",
   "metadata": {},
   "outputs": [
    {
     "data": {
      "text/plain": [
       "OrderedDict([('GLD', 0.5267130313582468),\n",
       "             ('^GSPC', 0.318881668317748),\n",
       "             ('BTC-USD', 0.1544053003240052)])"
      ]
     },
     "execution_count": 28,
     "metadata": {},
     "output_type": "execute_result"
    }
   ],
   "source": [
    "ef = EfficientFrontier(mu2, cov_matrix)\n",
    "ef.max_sharpe()\n"
   ]
  },
  {
   "cell_type": "code",
   "execution_count": 29,
   "id": "ca17b7ae",
   "metadata": {},
   "outputs": [
    {
     "name": "stdout",
     "output_type": "stream",
     "text": [
      "Expected annual return: 21.0%\n",
      "Annual volatility: 15.9%\n",
      "Sharpe Ratio: 1.33\n"
     ]
    },
    {
     "data": {
      "text/plain": [
       "(np.float64(0.21042423309834063),\n",
       " np.float64(0.15856371388309912),\n",
       " np.float64(1.3270642314386987))"
      ]
     },
     "execution_count": 29,
     "metadata": {},
     "output_type": "execute_result"
    }
   ],
   "source": [
    "ef.portfolio_performance(verbose=True)"
   ]
  }
 ],
 "metadata": {
  "kernelspec": {
   "display_name": "myenv",
   "language": "python",
   "name": "python3"
  },
  "language_info": {
   "codemirror_mode": {
    "name": "ipython",
    "version": 3
   },
   "file_extension": ".py",
   "mimetype": "text/x-python",
   "name": "python",
   "nbconvert_exporter": "python",
   "pygments_lexer": "ipython3",
   "version": "3.12.4"
  }
 },
 "nbformat": 4,
 "nbformat_minor": 5
}
